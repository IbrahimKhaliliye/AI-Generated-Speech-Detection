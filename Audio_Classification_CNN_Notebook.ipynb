{
 "cells": [
  {
   "cell_type": "code",
   "execution_count": null,
   "id": "bb8011f1",
   "metadata": {},
   "outputs": [],
   "source": [
    "\n",
    "import os\n",
    "import numpy as np\n",
    "from pydub import AudioSegment\n",
    "import librosa\n",
    "import tensorflow as tf\n",
    "from tensorflow.keras.models import Sequential\n",
    "from tensorflow.keras.layers import Dense, Dropout, Conv1D, MaxPooling1D, Flatten\n",
    "from sklearn.model_selection import train_test_split\n",
    "from sklearn.preprocessing import LabelEncoder\n"
   ]
  },
  {
   "cell_type": "code",
   "execution_count": null,
   "id": "3422a154",
   "metadata": {},
   "outputs": [],
   "source": [
    "\n",
    "# Function to convert MP3 to WAV\n",
    "def convert_mp3_to_wav(mp3_file, wav_file):\n",
    "    audio = AudioSegment.from_mp3(mp3_file)\n",
    "    audio.export(wav_file, format=\"wav\")\n"
   ]
  },
  {
   "cell_type": "code",
   "execution_count": null,
   "id": "7924655f",
   "metadata": {},
   "outputs": [],
   "source": [
    "\n",
    "# Function to load raw audio waveform\n",
    "def load_audio_waveform(file_name, max_length=22050):\n",
    "    audio, sample_rate = librosa.load(file_name, sr=22050)\n",
    "    if len(audio) > max_length:\n",
    "        audio = audio[:max_length]\n",
    "    elif len(audio) < max_length:\n",
    "        audio = np.pad(audio, (0, max_length - len(audio)))\n",
    "    return audio\n"
   ]
  },
  {
   "cell_type": "code",
   "execution_count": null,
   "id": "30cbc69d",
   "metadata": {},
   "outputs": [],
   "source": [
    "\n",
    "# Load dataset\n",
    "def load_data(mp3_files, labels, max_length=22050):\n",
    "    features = []\n",
    "    for file in mp3_files:\n",
    "        wav_file = file.replace('.mp3', '.wav')\n",
    "        convert_mp3_to_wav(file, wav_file)\n",
    "        features.append(load_audio_waveform(wav_file, max_length))\n",
    "    return np.array(features), np.array(labels)\n",
    "\n",
    "# Example usage\n",
    "mp3_files = ['file1.mp3', 'file2.mp3']  # Replace with your mp3 files\n",
    "labels = ['AI', 'Human']  # Corresponding labels\n"
   ]
  },
  {
   "cell_type": "code",
   "execution_count": null,
   "id": "6d8dde8e",
   "metadata": {},
   "outputs": [],
   "source": [
    "\n",
    "# Preprocess data\n",
    "X, y = load_data(mp3_files, labels)\n",
    "label_encoder = LabelEncoder()\n",
    "y = label_encoder.fit_transform(y)\n",
    "y = tf.keras.utils.to_categorical(y, num_classes=2)\n",
    "\n",
    "# Reshape data for CNN\n",
    "X = X.reshape(X.shape[0], X.shape[1], 1)\n",
    "\n",
    "# Split data\n",
    "X_train, X_test, y_train, y_test = train_test_split(X, y, test_size=0.2, random_state=42)\n"
   ]
  },
  {
   "cell_type": "code",
   "execution_count": null,
   "id": "25279d32",
   "metadata": {},
   "outputs": [],
   "source": [
    "\n",
    "# Build CNN model\n",
    "model = Sequential()\n",
    "model.add(Conv1D(16, kernel_size=3, activation='relu', input_shape=(X.shape[1], 1)))\n",
    "model.add(MaxPooling1D(pool_size=2))\n",
    "model.add(Conv1D(32, kernel_size=3, activation='relu'))\n",
    "model.add(MaxPooling1D(pool_size=2))\n",
    "model.add(Conv1D(64, kernel_size=3, activation='relu'))\n",
    "model.add(MaxPooling1D(pool_size=2))\n",
    "model.add(Flatten())\n",
    "model.add(Dense(128, activation='relu'))\n",
    "model.add(Dropout(0.5))\n",
    "model.add(Dense(2, activation='softmax'))\n",
    "\n",
    "model.compile(loss='categorical_crossentropy', optimizer='adam', metrics=['accuracy'])\n"
   ]
  },
  {
   "cell_type": "code",
   "execution_count": null,
   "id": "8c532c32",
   "metadata": {},
   "outputs": [],
   "source": [
    "\n",
    "# Train model\n",
    "model.fit(X_train, y_train, epochs=50, batch_size=32, validation_data=(X_test, y_test))\n"
   ]
  },
  {
   "cell_type": "code",
   "execution_count": null,
   "id": "f540e78c",
   "metadata": {},
   "outputs": [],
   "source": [
    "\n",
    "# Evaluate the model on the test set\n",
    "loss, accuracy = model.evaluate(X_test, y_test)\n",
    "print(f\"Test Accuracy: {accuracy*100:.2f}%\")\n"
   ]
  }
 ],
 "metadata": {},
 "nbformat": 4,
 "nbformat_minor": 5
}
