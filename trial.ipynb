{
 "cells": [
  {
   "cell_type": "code",
   "execution_count": 1,
   "metadata": {},
   "outputs": [],
   "source": [
    "from AIModel_FineTunded import extract_features"
   ]
  },
  {
   "cell_type": "code",
   "execution_count": 101,
   "metadata": {},
   "outputs": [],
   "source": [
    "test_file = r'C:\\Users\\alisa\\Downloads\\Recording.wav'\n",
    "test2_file = r'C:\\Users\\alisa\\Downloads\\generated_audio\\generated_audio\\common_voices_prompts_from_conformer_fastspeech2_pwg_ljspeech\\gen_0.wav'\n",
    "test3_file = r'C:\\Users\\alisa\\Downloads\\generated_audio\\generated_audio\\common_voices_prompts_from_conformer_fastspeech2_pwg_ljspeech\\generated\\gen_1.wav'\n",
    "test4_file = r'C:\\Users\\alisa\\Downloads\\ElevenLabs_2024-02-21T05_28_34_Me_ivc_s50_sb75_se0_b_m2.wav'"
   ]
  },
  {
   "cell_type": "code",
   "execution_count": 68,
   "metadata": {},
   "outputs": [],
   "source": [
    "test = extract_features(test_file)\n",
    "test2 = extract_features(test2_file)\n",
    "test3= extract_features(test3_file)\n",
    "test4 = extract_features(test4_file)"
   ]
  },
  {
   "cell_type": "code",
   "execution_count": 85,
   "metadata": {},
   "outputs": [],
   "source": [
    "import numpy as np\n",
    "input_data = np.array(test)\n",
    "\n",
    "input2_data = np.array(test2)\n",
    "\n",
    "input3_data = np.array(test3)\n",
    "input4_data = np.array(test4)"
   ]
  },
  {
   "cell_type": "code",
   "execution_count": 7,
   "metadata": {},
   "outputs": [],
   "source": [
    "from tensorflow.keras.models import load_model"
   ]
  },
  {
   "cell_type": "code",
   "execution_count": 98,
   "metadata": {},
   "outputs": [
    {
     "name": "stderr",
     "output_type": "stream",
     "text": [
      "WARNING:absl:Compiled the loaded model, but the compiled metrics have yet to be built. `model.compile_metrics` will be empty until you train or evaluate the model.\n"
     ]
    }
   ],
   "source": [
    "model = load_model('detectionmodel.h5')"
   ]
  },
  {
   "cell_type": "code",
   "execution_count": 86,
   "metadata": {},
   "outputs": [
    {
     "name": "stdout",
     "output_type": "stream",
     "text": [
      "[ 4.32612747e-01  7.82687403e-03  2.66685142e+03  1.94339565e+03\n",
      "  4.49426282e+03  2.92608964e-01 -6.02937866e+02  6.63230667e+01\n",
      "  2.08384991e+01  2.56837349e+01 -2.22667103e+01  2.14854393e+01\n",
      " -2.65672321e+01  1.84398708e+01 -7.28603792e+00 -3.01655793e+00\n",
      " -6.99330807e+00  2.28292361e-01 -5.37567711e+00 -2.15095401e+00\n",
      "  2.57877254e+00 -1.56602585e+00 -3.67768049e+00 -2.38876033e+00\n",
      " -1.54985416e+00 -9.14330482e+00]\n",
      "[ 3.54903400e-01  5.53719960e-02  2.73312474e+03  2.13918584e+03\n",
      "  4.72640180e+03  1.64866001e-01 -3.27777405e+02  7.45699387e+01\n",
      "  7.06155729e+00  1.13399458e+01 -9.12978554e+00 -2.35110912e+01\n",
      " -1.07742414e+01 -1.56510859e+01 -1.22696247e+01  3.95978141e+00\n",
      " -1.89854259e+01  3.64391637e+00 -1.35041809e+01  5.93028688e+00\n",
      " -7.69824600e+00 -1.10628586e+01 -3.39916849e+00 -7.19448280e+00\n",
      " -3.21351528e+00 -8.19520664e+00]\n",
      "[ 3.28603089e-01  6.25081584e-02  3.04816988e+03  2.24445408e+03\n",
      "  5.09160563e+03  1.88883464e-01 -2.86977478e+02  6.00976219e+01\n",
      "  1.22439642e+01  1.59519520e+01 -4.98982763e+00 -1.56943703e+01\n",
      " -1.60663929e+01 -2.80596695e+01 -2.29266834e+01 -3.67527366e+00\n",
      " -1.78202763e+01  2.79696846e+00 -1.68833733e+01  1.25302105e+01\n",
      " -5.55901003e+00 -1.07893209e+01 -2.22515035e+00 -7.62505198e+00\n",
      "  2.06638455e+00 -9.80275249e+00]\n",
      "[ 4.24903721e-01  5.57112321e-02  1.93218795e+03  1.76433158e+03\n",
      "  3.67463637e+03  8.38424078e-02 -3.48899994e+02  1.13829659e+02\n",
      " -4.49835539e+00  2.71450653e+01  2.47940159e+00  1.56838226e+01\n",
      " -1.00539179e+01  3.77497172e+00 -1.10154810e+01  2.82145709e-01\n",
      " -1.47960577e+01 -1.54748030e+01 -1.94968927e+00 -1.10609512e+01\n",
      " -1.34255862e+00 -3.28538275e+00 -1.16399174e+01  2.33135533e+00\n",
      "  4.80608284e-01 -8.85979557e+00]\n"
     ]
    }
   ],
   "source": [
    "print(input_data)\n",
    "print(input2_data)\n",
    "print(input3_data)\n",
    "print(input4_data)"
   ]
  },
  {
   "cell_type": "code",
   "execution_count": 23,
   "metadata": {},
   "outputs": [
    {
     "name": "stdout",
     "output_type": "stream",
     "text": [
      "26\n"
     ]
    }
   ],
   "source": [
    "print(input_data.shape[0])"
   ]
  },
  {
   "cell_type": "code",
   "execution_count": 71,
   "metadata": {},
   "outputs": [],
   "source": [
    "import numpy as np\n",
    "\n",
    "# Assuming your input data is stored in a variable named 'input_data'\n",
    "input_data = np.array(input_data)  # Convert input data to a NumPy array\n",
    "reshaped_data = input_data.reshape(1, input_data.shape[0], 1)\n",
    "\n",
    "reshaped2_data = input2_data.reshape(1, input2_data.shape[0], 1)\n",
    "\n",
    "reshaped3_data = input3_data.reshape(1, input3_data.shape[0],1)\n",
    "\n",
    "reshaped4_data = input4_data.reshape(1, input4_data.shape[0],1)"
   ]
  },
  {
   "cell_type": "code",
   "execution_count": 99,
   "metadata": {},
   "outputs": [
    {
     "name": "stdout",
     "output_type": "stream",
     "text": [
      "\u001b[1m1/1\u001b[0m \u001b[32m━━━━━━━━━━━━━━━━━━━━\u001b[0m\u001b[37m\u001b[0m \u001b[1m0s\u001b[0m 149ms/step\n"
     ]
    }
   ],
   "source": [
    "prediction4 = model.predict(reshaped4_data)"
   ]
  },
  {
   "cell_type": "markdown",
   "metadata": {},
   "source": []
  },
  {
   "cell_type": "markdown",
   "metadata": {},
   "source": []
  },
  {
   "cell_type": "code",
   "execution_count": 100,
   "metadata": {},
   "outputs": [
    {
     "name": "stdout",
     "output_type": "stream",
     "text": [
      "[[0.03311152 0.9668884 ]]\n"
     ]
    }
   ],
   "source": [
    "print(prediction4)"
   ]
  },
  {
   "cell_type": "code",
   "execution_count": 27,
   "metadata": {},
   "outputs": [],
   "source": [
    "from keras.utils import to_categorical"
   ]
  },
  {
   "cell_type": "code",
   "execution_count": 28,
   "metadata": {},
   "outputs": [
    {
     "name": "stdout",
     "output_type": "stream",
     "text": [
      "[[1. 0.]\n",
      " [0. 1.]]\n"
     ]
    }
   ],
   "source": [
    "y = [0,1]\n",
    "\n",
    "y= to_categorical(y)\n",
    "print(y)"
   ]
  },
  {
   "cell_type": "code",
   "execution_count": 75,
   "metadata": {},
   "outputs": [],
   "source": [
    "import pickle\n",
    "import xgboost as xgb\n"
   ]
  },
  {
   "cell_type": "code",
   "execution_count": 104,
   "metadata": {},
   "outputs": [],
   "source": [
    "model_path = r'C:\\Users\\alisa\\OneDrive\\Desktop\\GenGuard\\AI-Generated-Speech-Detection\\xgb_model.pkl'\n",
    "\n",
    "\n",
    "# Replace 'model.pkl' with your actual file name\n",
    "model = pickle.load(open(model_path, 'rb'))\n"
   ]
  },
  {
   "cell_type": "code",
   "execution_count": 106,
   "metadata": {},
   "outputs": [],
   "source": [
    "# Assuming your data is in a NumPy array called 'data'\n",
    "data = input4_data.reshape(1,-1)\n",
    "\n",
    "predictions = model.predict(data)\n"
   ]
  },
  {
   "cell_type": "code",
   "execution_count": 109,
   "metadata": {},
   "outputs": [
    {
     "name": "stdout",
     "output_type": "stream",
     "text": [
      "[1]\n"
     ]
    }
   ],
   "source": [
    "print(predictions)"
   ]
  },
  {
   "cell_type": "code",
   "execution_count": null,
   "metadata": {},
   "outputs": [],
   "source": []
  }
 ],
 "metadata": {
  "kernelspec": {
   "display_name": "Python 3",
   "language": "python",
   "name": "python3"
  },
  "language_info": {
   "codemirror_mode": {
    "name": "ipython",
    "version": 3
   },
   "file_extension": ".py",
   "mimetype": "text/x-python",
   "name": "python",
   "nbconvert_exporter": "python",
   "pygments_lexer": "ipython3",
   "version": "3.11.9"
  }
 },
 "nbformat": 4,
 "nbformat_minor": 2
}
