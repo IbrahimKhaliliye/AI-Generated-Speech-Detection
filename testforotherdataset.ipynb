{
 "cells": [
  {
   "cell_type": "code",
   "execution_count": 3,
   "metadata": {},
   "outputs": [],
   "source": [
    "import joblib\n",
    "import pandas as pd\n",
    "from sklearn.metrics import accuracy_score, classification_report\n",
    "import pandas as pd\n",
    "import numpy as np\n",
    "import time\n",
    "from sklearn.ensemble import RandomForestClassifier\n",
    "from sklearn.preprocessing import StandardScaler, LabelBinarizer\n",
    "from sklearn.metrics import accuracy_score, precision_score, recall_score, f1_score, roc_auc_score\n",
    "from sklearn.model_selection import KFold, GridSearchCV\n",
    "import warnings\n",
    "import joblib\n",
    "import librosa\n",
    "warnings.filterwarnings('ignore')\n",
    "\n"
   ]
  },
  {
   "cell_type": "code",
   "execution_count": 2,
   "metadata": {},
   "outputs": [],
   "source": [
    "model_path = 'rforrest.joblib'\n",
    "model = joblib.load(model_path)\n"
   ]
  },
  {
   "cell_type": "code",
   "execution_count": 5,
   "metadata": {},
   "outputs": [
    {
     "name": "stdout",
     "output_type": "stream",
     "text": [
      "[0.5035139, 0.05366672, 2533.0563906463444, 2461.1901943959906, 4980.111754966887, 0.03582453780353201, -400.69144, 139.60625, 0.5442081, 21.572584, 12.906434, 6.246363, 12.892218, -5.5753603, 0.60337603, -0.7921159, -7.4478936, 1.2572649, -10.785479, -14.763238, -2.005303, -5.4347577, -7.530237, 0.19119859, -1.8609121, -9.198692]\n"
     ]
    }
   ],
   "source": [
    "test_file = r'C:\\Users\\alisa\\Downloads\\ElevenLabs_2024-02-21T05_28_34_Me_ivc_s50_sb75_se0_b_m2.wav'\n",
    "\n",
    "def extract_features(wav_file):\n",
    "    y, sr = librosa.load(wav_file, sr=None)  # Load the audio file\n",
    "    chroma_stft = librosa.feature.chroma_stft(y=y, sr=sr)  # Chroma STFT\n",
    "    rms = librosa.feature.rms(y=y)  # Root Mean Square (RMS) Energy\n",
    "    spectral_centroid = librosa.feature.spectral_centroid(y=y, sr=sr)  # Spectral Centroid\n",
    "    spectral_bandwidth = librosa.feature.spectral_bandwidth(y=y, sr=sr)  # Spectral Bandwidth\n",
    "    rolloff = librosa.feature.spectral_rolloff(y=y, sr=sr)  # Spectral Rolloff\n",
    "    zero_crossing_rate = librosa.feature.zero_crossing_rate(y)  # Zero Crossing Rate\n",
    "    mfccs = librosa.feature.mfcc(y=y, sr=sr, n_mfcc=20)  # Mel-frequency cepstral coefficients (MFCCs)\n",
    "\n",
    "    # Aggregate features by computing the mean of each feature\n",
    "    features = [np.mean(chroma_stft), np.mean(rms), np.mean(spectral_centroid),\n",
    "                np.mean(spectral_bandwidth), np.mean(rolloff), np.mean(zero_crossing_rate)]\n",
    "    for mfcc in mfccs:\n",
    "        features.append(np.mean(mfcc))\n",
    "\n",
    "    return features\n",
    "\n",
    "test = extract_features(test_file)\n",
    "\n",
    "print(test)\n",
    "\n"
   ]
  },
  {
   "cell_type": "code",
   "execution_count": 9,
   "metadata": {},
   "outputs": [
    {
     "name": "stdout",
     "output_type": "stream",
     "text": [
      "[0]\n"
     ]
    }
   ],
   "source": [
    "test = np.array(test)\n",
    "test = test.reshape(1,-1)\n",
    "x =model.predict(test)\n",
    "print(x)"
   ]
  },
  {
   "cell_type": "code",
   "execution_count": 10,
   "metadata": {},
   "outputs": [
    {
     "name": "stdout",
     "output_type": "stream",
     "text": [
      "[0.46486872, 0.007674823, 2682.2280825098806, 2486.332558115381, 4825.128994673768, 0.056264173809920104, -567.9581, 125.7385, -19.230772, 30.838554, 19.211142, 6.4924917, 16.9159, -12.818841, -2.507697, 1.7112739, -11.020503, 5.2059526, -5.3650937, -11.641265, 5.0751605, -0.7896637, -1.9905803, 2.0782921, -0.745307, 0.089973666]\n"
     ]
    }
   ],
   "source": [
    "test2 = r'C:\\Users\\alisa\\Downloads\\ali.wav'\n",
    "\n",
    "test2 = extract_features(test2)\n",
    "\n",
    "print(test2)"
   ]
  },
  {
   "cell_type": "code",
   "execution_count": 11,
   "metadata": {},
   "outputs": [
    {
     "name": "stdout",
     "output_type": "stream",
     "text": [
      "[0]\n"
     ]
    }
   ],
   "source": [
    "test2 = np.array(test2)\n",
    "test2 = test2.reshape(1,-1)\n",
    "y =model.predict(test2)\n",
    "print(y)"
   ]
  }
 ],
 "metadata": {
  "kernelspec": {
   "display_name": "Python 3",
   "language": "python",
   "name": "python3"
  },
  "language_info": {
   "codemirror_mode": {
    "name": "ipython",
    "version": 3
   },
   "file_extension": ".py",
   "mimetype": "text/x-python",
   "name": "python",
   "nbconvert_exporter": "python",
   "pygments_lexer": "ipython3",
   "version": "3.11.9"
  }
 },
 "nbformat": 4,
 "nbformat_minor": 2
}
