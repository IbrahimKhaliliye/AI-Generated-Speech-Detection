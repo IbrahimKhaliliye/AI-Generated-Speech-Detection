{
 "cells": [
  {
   "cell_type": "code",
   "execution_count": 7,
   "metadata": {},
   "outputs": [],
   "source": [
    "import os\n",
    "import shutil\n",
    "import librosa\n",
    "import numpy as np\n",
    "import matplotlib.pyplot as plt\n",
    "import tensorflow as tf\n",
    "from sklearn.model_selection import train_test_split\n",
    "from tensorflow.keras.preprocessing.image import ImageDataGenerator\n",
    "from tensorflow.keras.models import Sequential\n",
    "from tensorflow.keras.layers import Conv2D, MaxPooling2D, Flatten, Dense, Dropout\n",
    "\n",
    "# Function to convert audio to waveform image\n",
    "def save_waveform_image(audio_path, save_path):\n",
    "    try:\n",
    "        y, sr = librosa.load(audio_path, sr=None)\n",
    "        plt.figure(figsize=(14, 5))\n",
    "        plt.plot(y)\n",
    "        plt.title('Waveform')\n",
    "        plt.savefig(save_path)\n",
    "        plt.close('all')\n",
    "    except:\n",
    "        print('fail')\n",
    "        pass\n",
    "# Preprocess audio files to waveform images\n",
    "\n",
    "def preprocess_audio_files(audio_dir, image_dir):\n",
    "    if not os.path.exists(image_dir):\n",
    "        os.makedirs(image_dir)\n",
    "    for subdir, _, files in os.walk(audio_dir):\n",
    "        for file in files:\n",
    "            if file.endswith(('.wav','.flac')):\n",
    "                audio_path = os.path.join(subdir, file)\n",
    "                relative_path = os.path.relpath(audio_path, audio_dir)\n",
    "                if file.endswith('.wav'):\n",
    "                    save_path = os.path.join(image_dir, relative_path.replace('.wav', '.png'))\n",
    "                if file.endswith('.flac'):\n",
    "                    save_path = os.path.join(image_dir, relative_path.replace('.flac', '.png'))\n",
    "                save_dir = os.path.dirname(save_path)\n",
    "                if not os.path.exists(save_dir):\n",
    "                    os.makedirs(save_dir)\n",
    "                save_waveform_image(audio_path, save_path)\n",
    "\n",
    "# Organize images into train and test directories\n",
    "def organize_images(image_dir, train_dir, test_dir, test_size=0.2):\n",
    "    categories = ['real2000', 'fake2000']\n",
    "    for category in categories:\n",
    "        category_dir = os.path.join(image_dir, category)\n",
    "        images = [os.path.join(category_dir, img) for img in os.listdir(category_dir) if img.endswith('.png')]\n",
    "        train_images, test_images = train_test_split(images, test_size=test_size)\n",
    "        \n",
    "        for img_set, set_dir in zip([train_images, test_images], [train_dir, test_dir]):\n",
    "            category_set_dir = os.path.join(set_dir, category)\n",
    "            if not os.path.exists(category_set_dir):\n",
    "                os.makedirs(category_set_dir)\n",
    "            for img_path in img_set:\n",
    "                shutil.copy(img_path, category_set_dir)\n"
   ]
  },
  {
   "cell_type": "code",
   "execution_count": 5,
   "metadata": {},
   "outputs": [],
   "source": [
    "real_audio_dir =r'C:\\Users\\alisa\\Downloads\\2000realaudio'\n",
    "fake_audio_dir = r'C:\\Users\\alisa\\Downloads\\2000fakeaudio'\n",
    "real_image_dir = 'allimages/real2000'\n",
    "fake_image_dir = 'allimages/fake2000'\n",
    "image_dir = 'allimages'\n",
    "train_dir = 'allimages/train'\n",
    "test_dir = 'allimages/test'\n"
   ]
  },
  {
   "cell_type": "code",
   "execution_count": 4,
   "metadata": {},
   "outputs": [
    {
     "name": "stderr",
     "output_type": "stream",
     "text": [
      "C:\\Users\\alisa\\AppData\\Local\\Temp\\ipykernel_18168\\2226767341.py:15: UserWarning: PySoundFile failed. Trying audioread instead.\n",
      "  y, sr = librosa.load(audio_path, sr=None)\n",
      "C:\\Users\\alisa\\AppData\\Local\\Packages\\PythonSoftwareFoundation.Python.3.11_qbz5n2kfra8p0\\LocalCache\\local-packages\\Python311\\site-packages\\librosa\\core\\audio.py:184: FutureWarning: librosa.core.audio.__audioread_load\n",
      "\tDeprecated as of librosa version 0.10.0.\n",
      "\tIt will be removed in librosa version 1.0.\n",
      "  y, sr_native = __audioread_load(path, offset, duration, dtype)\n"
     ]
    },
    {
     "name": "stdout",
     "output_type": "stream",
     "text": [
      "fail\n",
      "fail\n",
      "fail\n",
      "fail\n",
      "fail\n",
      "fail\n",
      "fail\n",
      "fail\n"
     ]
    }
   ],
   "source": [
    "preprocess_audio_files(real_audio_dir, real_image_dir)"
   ]
  },
  {
   "cell_type": "code",
   "execution_count": 24,
   "metadata": {},
   "outputs": [],
   "source": [
    "preprocess_audio_files(fake_audio_dir, fake_image_dir)\n"
   ]
  },
  {
   "cell_type": "code",
   "execution_count": 8,
   "metadata": {},
   "outputs": [],
   "source": [
    "organize_images(image_dir, train_dir, test_dir)\n"
   ]
  },
  {
   "cell_type": "code",
   "execution_count": 9,
   "metadata": {},
   "outputs": [
    {
     "name": "stdout",
     "output_type": "stream",
     "text": [
      "Found 3176 images belonging to 2 classes.\n",
      "Found 559 images belonging to 2 classes.\n"
     ]
    }
   ],
   "source": [
    "train_datagen = ImageDataGenerator(rescale=1./255, validation_split=0.15)\n",
    "train_generator = train_datagen.flow_from_directory(train_dir,\n",
    "                                                    target_size=(128, 128),\n",
    "                                                    batch_size=32,\n",
    "                                                    class_mode='binary',\n",
    "                                                    subset='training')\n",
    "validation_generator = train_datagen.flow_from_directory(train_dir,\n",
    "                                                         target_size=(128, 128),\n",
    "                                                         batch_size=32,\n",
    "                                                         class_mode='binary',\n",
    "                                                         subset='validation')\n"
   ]
  },
  {
   "cell_type": "code",
   "execution_count": 10,
   "metadata": {},
   "outputs": [
    {
     "name": "stderr",
     "output_type": "stream",
     "text": [
      "C:\\Users\\alisa\\AppData\\Local\\Packages\\PythonSoftwareFoundation.Python.3.11_qbz5n2kfra8p0\\LocalCache\\local-packages\\Python311\\site-packages\\keras\\src\\layers\\convolutional\\base_conv.py:107: UserWarning: Do not pass an `input_shape`/`input_dim` argument to a layer. When using Sequential models, prefer using an `Input(shape)` object as the first layer in the model instead.\n",
      "  super().__init__(activity_regularizer=activity_regularizer, **kwargs)\n"
     ]
    },
    {
     "name": "stdout",
     "output_type": "stream",
     "text": [
      "Epoch 1/20\n"
     ]
    },
    {
     "name": "stderr",
     "output_type": "stream",
     "text": [
      "C:\\Users\\alisa\\AppData\\Local\\Packages\\PythonSoftwareFoundation.Python.3.11_qbz5n2kfra8p0\\LocalCache\\local-packages\\Python311\\site-packages\\keras\\src\\trainers\\data_adapters\\py_dataset_adapter.py:121: UserWarning: Your `PyDataset` class should call `super().__init__(**kwargs)` in its constructor. `**kwargs` can include `workers`, `use_multiprocessing`, `max_queue_size`. Do not pass these arguments to `fit()`, as they will be ignored.\n",
      "  self._warn_if_super_not_called()\n"
     ]
    },
    {
     "name": "stdout",
     "output_type": "stream",
     "text": [
      "\u001b[1m99/99\u001b[0m \u001b[32m━━━━━━━━━━━━━━━━━━━━\u001b[0m\u001b[37m\u001b[0m \u001b[1m89s\u001b[0m 819ms/step - accuracy: 0.5499 - loss: 0.8800 - val_accuracy: 0.7243 - val_loss: 0.5481\n",
      "Epoch 2/20\n",
      "\u001b[1m 1/99\u001b[0m \u001b[37m━━━━━━━━━━━━━━━━━━━━\u001b[0m \u001b[1m15s\u001b[0m 160ms/step - accuracy: 0.7812 - loss: 0.5065"
     ]
    },
    {
     "name": "stderr",
     "output_type": "stream",
     "text": [
      "C:\\Program Files\\WindowsApps\\PythonSoftwareFoundation.Python.3.11_3.11.2544.0_x64__qbz5n2kfra8p0\\Lib\\contextlib.py:158: UserWarning: Your input ran out of data; interrupting training. Make sure that your dataset or generator can generate at least `steps_per_epoch * epochs` batches. You may need to use the `.repeat()` function when building your dataset.\n",
      "  self.gen.throw(typ, value, traceback)\n"
     ]
    },
    {
     "name": "stdout",
     "output_type": "stream",
     "text": [
      "\u001b[1m99/99\u001b[0m \u001b[32m━━━━━━━━━━━━━━━━━━━━\u001b[0m\u001b[37m\u001b[0m \u001b[1m1s\u001b[0m 4ms/step - accuracy: 0.7812 - loss: 0.5065 - val_accuracy: 0.8000 - val_loss: 0.4821\n",
      "Epoch 3/20\n",
      "\u001b[1m99/99\u001b[0m \u001b[32m━━━━━━━━━━━━━━━━━━━━\u001b[0m\u001b[37m\u001b[0m \u001b[1m44s\u001b[0m 424ms/step - accuracy: 0.7337 - loss: 0.5291 - val_accuracy: 0.7849 - val_loss: 0.4247\n",
      "Epoch 4/20\n",
      "\u001b[1m99/99\u001b[0m \u001b[32m━━━━━━━━━━━━━━━━━━━━\u001b[0m\u001b[37m\u001b[0m \u001b[1m0s\u001b[0m 2ms/step - accuracy: 0.6250 - loss: 0.7279 - val_accuracy: 0.6667 - val_loss: 0.6095\n",
      "Epoch 5/20\n",
      "\u001b[1m99/99\u001b[0m \u001b[32m━━━━━━━━━━━━━━━━━━━━\u001b[0m\u001b[37m\u001b[0m \u001b[1m44s\u001b[0m 422ms/step - accuracy: 0.8137 - loss: 0.4420 - val_accuracy: 0.7684 - val_loss: 0.4394\n",
      "Epoch 6/20\n",
      "\u001b[1m99/99\u001b[0m \u001b[32m━━━━━━━━━━━━━━━━━━━━\u001b[0m\u001b[37m\u001b[0m \u001b[1m0s\u001b[0m 741us/step - accuracy: 0.8438 - loss: 0.4336 - val_accuracy: 0.8667 - val_loss: 0.2870\n",
      "Epoch 7/20\n",
      "\u001b[1m99/99\u001b[0m \u001b[32m━━━━━━━━━━━━━━━━━━━━\u001b[0m\u001b[37m\u001b[0m \u001b[1m44s\u001b[0m 428ms/step - accuracy: 0.8107 - loss: 0.4151 - val_accuracy: 0.8070 - val_loss: 0.4265\n",
      "Epoch 8/20\n",
      "\u001b[1m99/99\u001b[0m \u001b[32m━━━━━━━━━━━━━━━━━━━━\u001b[0m\u001b[37m\u001b[0m \u001b[1m0s\u001b[0m 2ms/step - accuracy: 0.7500 - loss: 0.4842 - val_accuracy: 0.8667 - val_loss: 0.3648\n",
      "Epoch 9/20\n",
      "\u001b[1m99/99\u001b[0m \u001b[32m━━━━━━━━━━━━━━━━━━━━\u001b[0m\u001b[37m\u001b[0m \u001b[1m44s\u001b[0m 421ms/step - accuracy: 0.8358 - loss: 0.3874 - val_accuracy: 0.8051 - val_loss: 0.3619\n",
      "Epoch 10/20\n",
      "\u001b[1m99/99\u001b[0m \u001b[32m━━━━━━━━━━━━━━━━━━━━\u001b[0m\u001b[37m\u001b[0m \u001b[1m0s\u001b[0m 1ms/step - accuracy: 0.8125 - loss: 0.4998 - val_accuracy: 0.7333 - val_loss: 0.5050\n",
      "Epoch 11/20\n",
      "\u001b[1m99/99\u001b[0m \u001b[32m━━━━━━━━━━━━━━━━━━━━\u001b[0m\u001b[37m\u001b[0m \u001b[1m44s\u001b[0m 426ms/step - accuracy: 0.8591 - loss: 0.3611 - val_accuracy: 0.8015 - val_loss: 0.3915\n",
      "Epoch 12/20\n",
      "\u001b[1m99/99\u001b[0m \u001b[32m━━━━━━━━━━━━━━━━━━━━\u001b[0m\u001b[37m\u001b[0m \u001b[1m0s\u001b[0m 1ms/step - accuracy: 0.9062 - loss: 0.3356 - val_accuracy: 0.8667 - val_loss: 0.3492\n",
      "Epoch 13/20\n",
      "\u001b[1m99/99\u001b[0m \u001b[32m━━━━━━━━━━━━━━━━━━━━\u001b[0m\u001b[37m\u001b[0m \u001b[1m44s\u001b[0m 424ms/step - accuracy: 0.8591 - loss: 0.3459 - val_accuracy: 0.7996 - val_loss: 0.3921\n",
      "Epoch 14/20\n",
      "\u001b[1m99/99\u001b[0m \u001b[32m━━━━━━━━━━━━━━━━━━━━\u001b[0m\u001b[37m\u001b[0m \u001b[1m0s\u001b[0m 1ms/step - accuracy: 0.9375 - loss: 0.1908 - val_accuracy: 0.7333 - val_loss: 0.6207\n",
      "Epoch 15/20\n",
      "\u001b[1m99/99\u001b[0m \u001b[32m━━━━━━━━━━━━━━━━━━━━\u001b[0m\u001b[37m\u001b[0m \u001b[1m43s\u001b[0m 418ms/step - accuracy: 0.8585 - loss: 0.3428 - val_accuracy: 0.8548 - val_loss: 0.3299\n",
      "Epoch 16/20\n",
      "\u001b[1m99/99\u001b[0m \u001b[32m━━━━━━━━━━━━━━━━━━━━\u001b[0m\u001b[37m\u001b[0m \u001b[1m0s\u001b[0m 1ms/step - accuracy: 0.8750 - loss: 0.2477 - val_accuracy: 0.8000 - val_loss: 0.3684\n",
      "Epoch 17/20\n",
      "\u001b[1m99/99\u001b[0m \u001b[32m━━━━━━━━━━━━━━━━━━━━\u001b[0m\u001b[37m\u001b[0m \u001b[1m44s\u001b[0m 422ms/step - accuracy: 0.8746 - loss: 0.2997 - val_accuracy: 0.8915 - val_loss: 0.3131\n",
      "Epoch 18/20\n",
      "\u001b[1m99/99\u001b[0m \u001b[32m━━━━━━━━━━━━━━━━━━━━\u001b[0m\u001b[37m\u001b[0m \u001b[1m0s\u001b[0m 1ms/step - accuracy: 0.9062 - loss: 0.2590 - val_accuracy: 0.9333 - val_loss: 0.2917\n",
      "Epoch 19/20\n",
      "\u001b[1m99/99\u001b[0m \u001b[32m━━━━━━━━━━━━━━━━━━━━\u001b[0m\u001b[37m\u001b[0m \u001b[1m44s\u001b[0m 428ms/step - accuracy: 0.8777 - loss: 0.2943 - val_accuracy: 0.8235 - val_loss: 0.3706\n",
      "Epoch 20/20\n",
      "\u001b[1m99/99\u001b[0m \u001b[32m━━━━━━━━━━━━━━━━━━━━\u001b[0m\u001b[37m\u001b[0m \u001b[1m0s\u001b[0m 2ms/step - accuracy: 0.9375 - loss: 0.2030 - val_accuracy: 0.8667 - val_loss: 0.3478\n"
     ]
    }
   ],
   "source": [
    "model = Sequential([\n",
    "    Conv2D(32, (3, 3), activation='relu', input_shape=(128, 128, 3)),\n",
    "    MaxPooling2D((2, 2)),\n",
    "    Conv2D(64, (3, 3), activation='relu'),\n",
    "    MaxPooling2D((2, 2)),\n",
    "    Conv2D(128, (3, 3), activation='relu'),\n",
    "    MaxPooling2D((2, 2)),\n",
    "    Flatten(),\n",
    "    Dense(512, activation='relu'),\n",
    "    Dropout(0.5),\n",
    "    Dense(1, activation='sigmoid')\n",
    "])\n",
    "\n",
    "# Compile the model\n",
    "model.compile(optimizer='adam', loss='binary_crossentropy', metrics=['accuracy'])\n",
    "\n",
    "# Train the model\n",
    "history = model.fit(train_generator,\n",
    "                    validation_data=validation_generator,\n",
    "                    epochs=20,\n",
    "                    steps_per_epoch=train_generator.samples // train_generator.batch_size,\n",
    "                    validation_steps=validation_generator.samples // validation_generator.batch_size)\n"
   ]
  },
  {
   "cell_type": "code",
   "execution_count": 11,
   "metadata": {},
   "outputs": [
    {
     "name": "stdout",
     "output_type": "stream",
     "text": [
      "Found 934 images belonging to 2 classes.\n",
      "\u001b[1m30/30\u001b[0m \u001b[32m━━━━━━━━━━━━━━━━━━━━\u001b[0m\u001b[37m\u001b[0m \u001b[1m8s\u001b[0m 276ms/step - accuracy: 0.8366 - loss: 0.3753\n",
      "Test Accuracy: 0.85\n"
     ]
    }
   ],
   "source": [
    "test_datagen = ImageDataGenerator(rescale=1./255)\n",
    "test_generator = test_datagen.flow_from_directory(test_dir,\n",
    "                                                  target_size=(128, 128),\n",
    "                                                  batch_size=32,\n",
    "                                                  class_mode='binary')\n",
    "loss, accuracy = model.evaluate(test_generator)\n",
    "print(f'Test Accuracy: {accuracy:.2f}')"
   ]
  },
  {
   "cell_type": "code",
   "execution_count": 16,
   "metadata": {},
   "outputs": [
    {
     "data": {
      "image/png": "[encoded data removed]",
      "text/plain": [
       "<Figure size 1400x500 with 1 Axes>"
      ]
     },
     "metadata": {},
     "output_type": "display_data"
    }
   ],
   "source": [
    "test = r'C:\\Users\\alisa\\Downloads\\test.wav'\n",
    "from tensorflow.keras.preprocessing.image import ImageDataGenerator, load_img, img_to_array\n",
    "\n",
    "y, sr = librosa.load(test, sr=None)\n",
    "save_path = 'test'\n",
    "image_dir = 'allimages'\n",
    "save_path = os.path.join(image_dir, save_path.replace('.wav', '.png'))\n",
    "save_dir = os.path.dirname(save_path)\n",
    "if not os.path.exists(save_dir):\n",
    "    os.makedirs(save_dir)\n",
    "\n",
    "plt.figure(figsize=(14, 5))\n",
    "plt.plot(y)\n",
    "plt.title('Waveform')\n",
    "plt.savefig(save_dir)\n",
    "\n",
    "\n",
    "\n"
   ]
  },
  {
   "cell_type": "code",
   "execution_count": 17,
   "metadata": {},
   "outputs": [],
   "source": [
    "path = r'C:\\Users\\alisa\\OneDrive\\Desktop\\GenGuard\\AI-Generated-Speech-Detection\\allimages.png'\n",
    "\n",
    "img = load_img(path, target_size=(128, 128))\n",
    "img_array = img_to_array(img)\n",
    "img_array = np.expand_dims(img_array, axis=0)\n",
    "img_array = img_array / 255.0"
   ]
  },
  {
   "cell_type": "code",
   "execution_count": 18,
   "metadata": {},
   "outputs": [
    {
     "name": "stdout",
     "output_type": "stream",
     "text": [
      "\u001b[1m1/1\u001b[0m \u001b[32m━━━━━━━━━━━━━━━━━━━━\u001b[0m\u001b[37m\u001b[0m \u001b[1m0s\u001b[0m 83ms/step\n"
     ]
    },
    {
     "data": {
      "text/plain": [
       "array([[0.5967666]], dtype=float32)"
      ]
     },
     "execution_count": 18,
     "metadata": {},
     "output_type": "execute_result"
    }
   ],
   "source": [
    "model.predict(img_array)"
   ]
  },
  {
   "cell_type": "code",
   "execution_count": 36,
   "metadata": {},
   "outputs": [
    {
     "data": {
      "image/png": "[encoded data removed]",
      "text/plain": [
       "<Figure size 1400x500 with 1 Axes>"
      ]
     },
     "metadata": {},
     "output_type": "display_data"
    }
   ],
   "source": [
    "test = r'C:\\Users\\alisa\\Downloads\\record_out (1).wav'\n",
    "y, sr = librosa.load(test, sr=None)\n",
    "save_path = 'test'\n",
    "image_dir = 'elevenlabimage'\n",
    "save_path = os.path.join(image_dir, save_path.replace('.wav', '.png'))\n",
    "save_dir = os.path.dirname(save_path)\n",
    "if not os.path.exists(save_dir):\n",
    "    os.makedirs(save_dir)\n",
    "\n",
    "plt.figure(figsize=(14, 5))\n",
    "plt.plot(y)\n",
    "plt.title('Waveform')\n",
    "plt.savefig(save_dir)"
   ]
  },
  {
   "cell_type": "code",
   "execution_count": 37,
   "metadata": {},
   "outputs": [],
   "source": [
    "path = r'C:\\Users\\alisa\\OneDrive\\Desktop\\GenGuard\\AI-Generated-Speech-Detection\\elevenlabimage.png'\n",
    "img = load_img(path, target_size=(128, 128))\n",
    "img_array = img_to_array(img)\n",
    "img_array = np.expand_dims(img_array, axis=0)\n",
    "img_array = img_array / 255.0"
   ]
  },
  {
   "cell_type": "code",
   "execution_count": 38,
   "metadata": {},
   "outputs": [
    {
     "name": "stdout",
     "output_type": "stream",
     "text": [
      "\u001b[1m1/1\u001b[0m \u001b[32m━━━━━━━━━━━━━━━━━━━━\u001b[0m\u001b[37m\u001b[0m \u001b[1m0s\u001b[0m 19ms/step\n"
     ]
    },
    {
     "data": {
      "text/plain": [
       "array([[0.43842053]], dtype=float32)"
      ]
     },
     "execution_count": 38,
     "metadata": {},
     "output_type": "execute_result"
    }
   ],
   "source": [
    "model.predict(img_array)"
   ]
  },
  {
   "cell_type": "code",
   "execution_count": 27,
   "metadata": {},
   "outputs": [
    {
     "data": {
      "image/png": "[encoded data removed]",
      "text/plain": [
       "<Figure size 1400x500 with 1 Axes>"
      ]
     },
     "metadata": {},
     "output_type": "display_data"
    }
   ],
   "source": [
    "test = r\"C:\\Users\\alisa\\Downloads\\REAL2\\LJ018-0152.wav\"\n",
    "from tensorflow.keras.preprocessing.image import ImageDataGenerator, load_img, img_to_array\n",
    "\n",
    "y, sr = librosa.load(test, sr=None)\n",
    "save_path = 'test'\n",
    "image_dir = 'abeltrial'\n",
    "save_path = os.path.join(image_dir, save_path.replace('.wav', '.png'))\n",
    "save_dir = os.path.dirname(save_path)\n",
    "if not os.path.exists(save_dir):\n",
    "    os.makedirs(save_dir)\n",
    "\n",
    "plt.figure(figsize=(14, 5))\n",
    "plt.plot(y)\n",
    "plt.title('Waveform')\n",
    "plt.savefig(save_dir)\n",
    "\n",
    "\n",
    "\n"
   ]
  },
  {
   "cell_type": "code",
   "execution_count": 28,
   "metadata": {},
   "outputs": [],
   "source": [
    "path = r'C:\\Users\\alisa\\OneDrive\\Desktop\\GenGuard\\AI-Generated-Speech-Detection\\abeltrial.png'\n",
    "\n",
    "img = load_img(path, target_size=(128, 128))\n",
    "img_array = img_to_array(img)\n",
    "img_array = np.expand_dims(img_array, axis=0)\n",
    "img_array = img_array / 255.0"
   ]
  },
  {
   "cell_type": "code",
   "execution_count": 29,
   "metadata": {},
   "outputs": [
    {
     "name": "stdout",
     "output_type": "stream",
     "text": [
      "\u001b[1m1/1\u001b[0m \u001b[32m━━━━━━━━━━━━━━━━━━━━\u001b[0m\u001b[37m\u001b[0m \u001b[1m0s\u001b[0m 20ms/step\n"
     ]
    },
    {
     "data": {
      "text/plain": [
       "array([[0.10948043]], dtype=float32)"
      ]
     },
     "execution_count": 29,
     "metadata": {},
     "output_type": "execute_result"
    }
   ],
   "source": [
    "model.predict(img_array)"
   ]
  },
  {
   "cell_type": "code",
   "execution_count": 39,
   "metadata": {},
   "outputs": [
    {
     "name": "stderr",
     "output_type": "stream",
     "text": [
      "WARNING:absl:You are saving your model as an HDF5 file via `model.save()` or `keras.saving.save_model(model)`. This file format is considered legacy. We recommend using instead the native Keras format, e.g. `model.save('my_model.keras')` or `keras.saving.save_model(model, 'my_model.keras')`. \n"
     ]
    }
   ],
   "source": [
    "model.save('waveform-image-CNN.h5')"
   ]
  },
  {
   "cell_type": "code",
   "execution_count": 40,
   "metadata": {},
   "outputs": [],
   "source": [
    "model.save('waveform-image-CNN.keras')"
   ]
  },
  {
   "cell_type": "code",
   "execution_count": 56,
   "metadata": {},
   "outputs": [
    {
     "name": "stdout",
     "output_type": "stream",
     "text": [
      "Found 3176 images belonging to 2 classes.\n",
      "Found 559 images belonging to 2 classes.\n",
      "Epoch 1/5\n"
     ]
    },
    {
     "name": "stderr",
     "output_type": "stream",
     "text": [
      "C:\\Users\\alisa\\AppData\\Local\\Packages\\PythonSoftwareFoundation.Python.3.11_qbz5n2kfra8p0\\LocalCache\\local-packages\\Python311\\site-packages\\keras\\src\\trainers\\data_adapters\\py_dataset_adapter.py:121: UserWarning: Your `PyDataset` class should call `super().__init__(**kwargs)` in its constructor. `**kwargs` can include `workers`, `use_multiprocessing`, `max_queue_size`. Do not pass these arguments to `fit()`, as they will be ignored.\n",
      "  self._warn_if_super_not_called()\n"
     ]
    },
    {
     "name": "stdout",
     "output_type": "stream",
     "text": [
      "\u001b[1m99/99\u001b[0m \u001b[32m━━━━━━━━━━━━━━━━━━━━\u001b[0m\u001b[37m\u001b[0m \u001b[1m177s\u001b[0m 2s/step - accuracy: 0.6433 - loss: 1.4879 - val_accuracy: 0.9210 - val_loss: 0.2626\n",
      "Epoch 2/5\n",
      "\u001b[1m 1/99\u001b[0m \u001b[37m━━━━━━━━━━━━━━━━━━━━\u001b[0m \u001b[1m2:23\u001b[0m 1s/step - accuracy: 0.7812 - loss: 0.3956"
     ]
    },
    {
     "name": "stderr",
     "output_type": "stream",
     "text": [
      "C:\\Program Files\\WindowsApps\\PythonSoftwareFoundation.Python.3.11_3.11.2544.0_x64__qbz5n2kfra8p0\\Lib\\contextlib.py:158: UserWarning: Your input ran out of data; interrupting training. Make sure that your dataset or generator can generate at least `steps_per_epoch * epochs` batches. You may need to use the `.repeat()` function when building your dataset.\n",
      "  self.gen.throw(typ, value, traceback)\n"
     ]
    },
    {
     "name": "stdout",
     "output_type": "stream",
     "text": [
      "\u001b[1m99/99\u001b[0m \u001b[32m━━━━━━━━━━━━━━━━━━━━\u001b[0m\u001b[37m\u001b[0m \u001b[1m2s\u001b[0m 7ms/step - accuracy: 0.7812 - loss: 0.3956 - val_accuracy: 0.9333 - val_loss: 0.2268\n",
      "Epoch 3/5\n",
      "\u001b[1m99/99\u001b[0m \u001b[32m━━━━━━━━━━━━━━━━━━━━\u001b[0m\u001b[37m\u001b[0m \u001b[1m171s\u001b[0m 2s/step - accuracy: 0.8425 - loss: 0.3863 - val_accuracy: 0.9632 - val_loss: 0.1937\n",
      "Epoch 4/5\n",
      "\u001b[1m99/99\u001b[0m \u001b[32m━━━━━━━━━━━━━━━━━━━━\u001b[0m\u001b[37m\u001b[0m \u001b[1m2s\u001b[0m 7ms/step - accuracy: 0.8125 - loss: 0.4826 - val_accuracy: 0.8667 - val_loss: 0.3683\n",
      "Epoch 5/5\n",
      "\u001b[1m99/99\u001b[0m \u001b[32m━━━━━━━━━━━━━━━━━━━━\u001b[0m\u001b[37m\u001b[0m \u001b[1m171s\u001b[0m 2s/step - accuracy: 0.8718 - loss: 0.3372 - val_accuracy: 0.9357 - val_loss: 0.2361\n",
      "Epoch 1/10\n",
      "\u001b[1m99/99\u001b[0m \u001b[32m━━━━━━━━━━━━━━━━━━━━\u001b[0m\u001b[37m\u001b[0m \u001b[1m335s\u001b[0m 2s/step - accuracy: 0.8844 - loss: 0.3183 - val_accuracy: 0.9393 - val_loss: 0.2186\n",
      "Epoch 2/10\n",
      "\u001b[1m99/99\u001b[0m \u001b[32m━━━━━━━━━━━━━━━━━━━━\u001b[0m\u001b[37m\u001b[0m \u001b[1m2s\u001b[0m 8ms/step - accuracy: 0.9375 - loss: 0.2865 - val_accuracy: 0.9333 - val_loss: 0.2301\n",
      "Epoch 3/10\n",
      "\u001b[1m99/99\u001b[0m \u001b[32m━━━━━━━━━━━━━━━━━━━━\u001b[0m\u001b[37m\u001b[0m \u001b[1m183s\u001b[0m 2s/step - accuracy: 0.8952 - loss: 0.2821 - val_accuracy: 0.9504 - val_loss: 0.2011\n",
      "Epoch 4/10\n",
      "\u001b[1m99/99\u001b[0m \u001b[32m━━━━━━━━━━━━━━━━━━━━\u001b[0m\u001b[37m\u001b[0m \u001b[1m2s\u001b[0m 7ms/step - accuracy: 0.8438 - loss: 0.4117 - val_accuracy: 1.0000 - val_loss: 0.1659\n",
      "Epoch 5/10\n",
      "\u001b[1m99/99\u001b[0m \u001b[32m━━━━━━━━━━━━━━━━━━━━\u001b[0m\u001b[37m\u001b[0m \u001b[1m183s\u001b[0m 2s/step - accuracy: 0.8913 - loss: 0.2762 - val_accuracy: 0.9485 - val_loss: 0.1953\n",
      "Epoch 6/10\n",
      "\u001b[1m99/99\u001b[0m \u001b[32m━━━━━━━━━━━━━━━━━━━━\u001b[0m\u001b[37m\u001b[0m \u001b[1m2s\u001b[0m 7ms/step - accuracy: 0.8750 - loss: 0.3162 - val_accuracy: 0.9333 - val_loss: 0.2620\n",
      "Epoch 7/10\n",
      "\u001b[1m99/99\u001b[0m \u001b[32m━━━━━━━━━━━━━━━━━━━━\u001b[0m\u001b[37m\u001b[0m \u001b[1m183s\u001b[0m 2s/step - accuracy: 0.8914 - loss: 0.2757 - val_accuracy: 0.9357 - val_loss: 0.1994\n",
      "Epoch 8/10\n",
      "\u001b[1m99/99\u001b[0m \u001b[32m━━━━━━━━━━━━━━━━━━━━\u001b[0m\u001b[37m\u001b[0m \u001b[1m2s\u001b[0m 7ms/step - accuracy: 0.9375 - loss: 0.1728 - val_accuracy: 1.0000 - val_loss: 0.1623\n",
      "Epoch 9/10\n",
      "\u001b[1m99/99\u001b[0m \u001b[32m━━━━━━━━━━━━━━━━━━━━\u001b[0m\u001b[37m\u001b[0m \u001b[1m183s\u001b[0m 2s/step - accuracy: 0.9207 - loss: 0.2277 - val_accuracy: 0.9430 - val_loss: 0.1970\n",
      "Epoch 10/10\n",
      "\u001b[1m99/99\u001b[0m \u001b[32m━━━━━━━━━━━━━━━━━━━━\u001b[0m\u001b[37m\u001b[0m \u001b[1m2s\u001b[0m 7ms/step - accuracy: 0.9062 - loss: 0.2140 - val_accuracy: 0.9333 - val_loss: 0.2105\n"
     ]
    }
   ],
   "source": [
    "train_datagen = ImageDataGenerator(rescale=1./255, validation_split=0.15)\n",
    "train_generator = train_datagen.flow_from_directory(train_dir,\n",
    "                                                    target_size=(224, 224),\n",
    "                                                    batch_size=32,\n",
    "                                                    class_mode='binary',\n",
    "                                                    subset='training')\n",
    "validation_generator = train_datagen.flow_from_directory(train_dir,\n",
    "                                                         target_size=(224, 224),\n",
    "                                                         batch_size=32,\n",
    "                                                         class_mode='binary',\n",
    "                                                         subset='validation')\n",
    "\n",
    "from tensorflow.keras.applications import VGG16\n",
    "from tensorflow.keras.models import Model\n",
    "base_model = VGG16(weights='imagenet', include_top=False, input_shape=(224, 224, 3))\n",
    "x = Flatten()(base_model.output)\n",
    "x = Dense(512, activation='relu')(x)\n",
    "x = Dense(1, activation='sigmoid')(x)  # Binary classification\n",
    "model = Model(inputs=base_model.input, outputs=x)\n",
    "\n",
    "# Freeze the base model\n",
    "for layer in base_model.layers:\n",
    "    layer.trainable = False\n",
    "\n",
    "# Compile the model\n",
    "model.compile(optimizer='adam', loss='binary_crossentropy', metrics=['accuracy'])\n",
    "\n",
    "# Train the model\n",
    "history = model.fit(train_generator,\n",
    "                    validation_data=validation_generator,\n",
    "                    epochs=5,\n",
    "                    steps_per_epoch=train_generator.samples // train_generator.batch_size,\n",
    "                    validation_steps=validation_generator.samples // validation_generator.batch_size)\n",
    "\n",
    "# Unfreeze some layers of the base model\n",
    "for layer in base_model.layers[-3:]:  # Unfreeze the last 4 layers\n",
    "    layer.trainable = True\n",
    "\n",
    "# Recompile the model with a lower learning rate\n",
    "model.compile(optimizer=tf.keras.optimizers.Adam(1e-5),  # Lower learning rate\n",
    "              loss='binary_crossentropy',\n",
    "              metrics=['accuracy'])\n",
    "\n",
    "# Continue training (fine-tuning)\n",
    "history_fine = model.fit(train_generator,\n",
    "                         validation_data=validation_generator,\n",
    "                         epochs=10,\n",
    "                         steps_per_epoch=train_generator.samples // train_generator.batch_size,\n",
    "                         validation_steps=validation_generator.samples // validation_generator.batch_size)\n"
   ]
  },
  {
   "cell_type": "code",
   "execution_count": null,
   "metadata": {},
   "outputs": [],
   "source": []
  },
  {
   "cell_type": "code",
   "execution_count": 57,
   "metadata": {},
   "outputs": [
    {
     "name": "stdout",
     "output_type": "stream",
     "text": [
      "\u001b[1m1/1\u001b[0m \u001b[32m━━━━━━━━━━━━━━━━━━━━\u001b[0m\u001b[37m\u001b[0m \u001b[1m0s\u001b[0m 283ms/step\n"
     ]
    },
    {
     "data": {
      "text/plain": [
       "array([[0.5710939]], dtype=float32)"
      ]
     },
     "execution_count": 57,
     "metadata": {},
     "output_type": "execute_result"
    }
   ],
   "source": [
    "import librosa\n",
    "import matplotlib.pyplot as plt\n",
    "\n",
    "# Load the audio file\n",
    "audio_path = r'C:\\Users\\alisa\\Downloads\\ElevenLabs_2024-02-21T05_28_34_Me_ivc_s50_sb75_se0_b_m2.wav'\n",
    "y, sr = librosa.load(audio_path, sr=None)\n",
    "\n",
    "# Plot and save the waveform image\n",
    "plt.figure(figsize=(14, 5))\n",
    "plt.plot(y)\n",
    "plt.title('Waveform')\n",
    "waveform_image_path = '11labsgen.png'\n",
    "plt.savefig(waveform_image_path)\n",
    "plt.close()\n",
    "\n",
    "\n",
    "import tensorflow as tf\n",
    "from tensorflow.keras.preprocessing import image\n",
    "\n",
    "# Load the image\n",
    "img = image.load_img(waveform_image_path, target_size=(224, 224))\n",
    "\n",
    "# Convert the image to a numpy array\n",
    "img_array = image.img_to_array(img)\n",
    "\n",
    "# Normalize the image\n",
    "img_array /= 255.0\n",
    "\n",
    "# Expand dimensions to match the input shape of the model\n",
    "img_array = np.expand_dims(img_array, axis=0)\n",
    "\n",
    "model.predict(img_array)\n",
    "\n"
   ]
  },
  {
   "cell_type": "code",
   "execution_count": 60,
   "metadata": {},
   "outputs": [
    {
     "name": "stdout",
     "output_type": "stream",
     "text": [
      "\u001b[1m1/1\u001b[0m \u001b[32m━━━━━━━━━━━━━━━━━━━━\u001b[0m\u001b[37m\u001b[0m \u001b[1m0s\u001b[0m 112ms/step\n"
     ]
    },
    {
     "data": {
      "text/plain": [
       "array([[0.03676958]], dtype=float32)"
      ]
     },
     "execution_count": 60,
     "metadata": {},
     "output_type": "execute_result"
    }
   ],
   "source": [
    "import librosa\n",
    "import matplotlib.pyplot as plt\n",
    "\n",
    "# Load the audio file\n",
    "audio_path = r'C:\\Users\\alisa\\Downloads\\FAKE\\target generated\\melganmelganmelganLJ002-0121_gen.wav'\n",
    "y, sr = librosa.load(audio_path, sr=None)\n",
    "\n",
    "# Plot and save the waveform image\n",
    "plt.figure(figsize=(14, 5))\n",
    "plt.plot(y)\n",
    "plt.title('Waveform')\n",
    "waveform_image_path = 'workplz.png'\n",
    "plt.savefig(waveform_image_path)\n",
    "plt.close()\n",
    "\n",
    "\n",
    "import tensorflow as tf\n",
    "from tensorflow.keras.preprocessing import image\n",
    "\n",
    "# Load the image\n",
    "img = image.load_img(waveform_image_path, target_size=(224,224))\n",
    "\n",
    "# Convert the image to a numpy array\n",
    "img_array = image.img_to_array(img)\n",
    "\n",
    "# Normalize the image\n",
    "img_array /= 255.0\n",
    "\n",
    "# Expand dimensions to match the input shape of the model\n",
    "img_array = np.expand_dims(img_array, axis=0)\n",
    "\n",
    "\n",
    "\n",
    "model.predict(img_array)\n",
    "\n"
   ]
  },
  {
   "cell_type": "code",
   "execution_count": 61,
   "metadata": {},
   "outputs": [
    {
     "name": "stderr",
     "output_type": "stream",
     "text": [
      "WARNING:absl:You are saving your model as an HDF5 file via `model.save()` or `keras.saving.save_model(model)`. This file format is considered legacy. We recommend using instead the native Keras format, e.g. `model.save('my_model.keras')` or `keras.saving.save_model(model, 'my_model.keras')`. \n"
     ]
    }
   ],
   "source": [
    "model.save('inversemodel-VG616-Waveform.h5')"
   ]
  },
  {
   "cell_type": "code",
   "execution_count": 62,
   "metadata": {},
   "outputs": [],
   "source": [
    "model.save('inversemodel-VG616-Waveform.keras')"
   ]
  },
  {
   "cell_type": "code",
   "execution_count": 66,
   "metadata": {},
   "outputs": [
    {
     "name": "stderr",
     "output_type": "stream",
     "text": [
      "C:\\Users\\alisa\\AppData\\Local\\Packages\\PythonSoftwareFoundation.Python.3.11_qbz5n2kfra8p0\\LocalCache\\local-packages\\Python311\\site-packages\\keras\\src\\saving\\saving_lib.py:415: UserWarning: Skipping variable loading for optimizer 'rmsprop', because it has 12 variables whereas the saved optimizer has 22 variables. \n",
      "  saveable.load_own_variables(weights_store.get(inner_path))\n",
      "C:\\Users\\alisa\\AppData\\Local\\Packages\\PythonSoftwareFoundation.Python.3.11_qbz5n2kfra8p0\\LocalCache\\local-packages\\Python311\\site-packages\\keras\\src\\saving\\saving_lib.py:415: UserWarning: Skipping variable loading for optimizer 'rmsprop', because it has 10 variables whereas the saved optimizer has 18 variables. \n",
      "  saveable.load_own_variables(weights_store.get(inner_path))\n"
     ]
    },
    {
     "name": "stdout",
     "output_type": "stream",
     "text": [
      "\u001b[1m1/1\u001b[0m \u001b[32m━━━━━━━━━━━━━━━━━━━━\u001b[0m\u001b[37m\u001b[0m \u001b[1m0s\u001b[0m 204ms/step\n",
      "\u001b[1m1/1\u001b[0m \u001b[32m━━━━━━━━━━━━━━━━━━━━\u001b[0m\u001b[37m\u001b[0m \u001b[1m1s\u001b[0m 549ms/step\n",
      "[[0.5967666]]\n",
      "[[0.9203248]]\n"
     ]
    }
   ],
   "source": [
    "import librosa\n",
    "import matplotlib.pyplot as plt\n",
    "\n",
    "# Load the audio file\n",
    "audio_path = r'C:\\Users\\alisa\\Downloads\\ali.wav'\n",
    "y, sr = librosa.load(audio_path, sr=None)\n",
    "\n",
    "# Plot and save the waveform image\n",
    "plt.figure(figsize=(14, 5))\n",
    "plt.plot(y)\n",
    "plt.title('Waveform')\n",
    "waveform_image_path = 'workplz.png'\n",
    "plt.savefig(waveform_image_path)\n",
    "plt.close()\n",
    "\n",
    "\n",
    "import tensorflow as tf\n",
    "from tensorflow.keras.preprocessing import image\n",
    "\n",
    "# Load the image\n",
    "img = image.load_img(waveform_image_path, target_size=(128,128))\n",
    "img2 = image.load_img(waveform_image_path, target_size=(224,224))\n",
    "# Convert the image to a numpy array\n",
    "img_array = image.img_to_array(img)\n",
    "img2_array = image.img_to_array(img2)\n",
    "\n",
    "# Normalize the image\n",
    "img_array /= 255.0\n",
    "\n",
    "img2_array /= 255.0\n",
    "\n",
    "# Expand dimensions to match the input shape of the model\n",
    "img_array = np.expand_dims(img_array, axis=0)\n",
    "img2_array = np.expand_dims(img2_array, axis=0)\n",
    "\n",
    "model1 = tf.keras.models.load_model('waveform-image-CNN.keras')\n",
    "model2 = tf.keras.models.load_model('inversemodel-VG616-Waveform.keras')\n",
    "\n",
    "\n",
    "x = model1.predict(img_array)\n",
    "y = model2.predict(img2_array)\n",
    "\n",
    "print(x)\n",
    "print(y)\n"
   ]
  },
  {
   "cell_type": "code",
   "execution_count": 67,
   "metadata": {},
   "outputs": [
    {
     "name": "stdout",
     "output_type": "stream",
     "text": [
      "\u001b[1m1/1\u001b[0m \u001b[32m━━━━━━━━━━━━━━━━━━━━\u001b[0m\u001b[37m\u001b[0m \u001b[1m0s\u001b[0m 141ms/step\n",
      "\u001b[1m1/1\u001b[0m \u001b[32m━━━━━━━━━━━━━━━━━━━━\u001b[0m\u001b[37m\u001b[0m \u001b[1m1s\u001b[0m 525ms/step\n",
      "[[0.8824552]]\n",
      "[[0.7880303]]\n"
     ]
    }
   ],
   "source": [
    "import librosa\n",
    "import matplotlib.pyplot as plt\n",
    "\n",
    "# Load the audio file\n",
    "audio_path = r'C:\\Users\\alisa\\Downloads\\test7.wav'\n",
    "y, sr = librosa.load(audio_path, sr=None)\n",
    "\n",
    "# Plot and save the waveform image\n",
    "plt.figure(figsize=(14, 5))\n",
    "plt.plot(y)\n",
    "plt.title('Waveform')\n",
    "waveform_image_path = 'testimage.png'\n",
    "plt.savefig(waveform_image_path)\n",
    "plt.close()\n",
    "\n",
    "\n",
    "import tensorflow as tf\n",
    "from tensorflow.keras.preprocessing import image\n",
    "\n",
    "# Load the image\n",
    "img = image.load_img(waveform_image_path, target_size=(128,128))\n",
    "img2 = image.load_img(waveform_image_path, target_size=(224,224))\n",
    "# Convert the image to a numpy array\n",
    "img_array = image.img_to_array(img)\n",
    "img2_array = image.img_to_array(img2)\n",
    "\n",
    "# Normalize the image\n",
    "img_array /= 255.0\n",
    "\n",
    "img2_array /= 255.0\n",
    "\n",
    "# Expand dimensions to match the input shape of the model\n",
    "img_array = np.expand_dims(img_array, axis=0)\n",
    "img2_array = np.expand_dims(img2_array, axis=0)\n",
    "\n",
    "model1 = tf.keras.models.load_model('waveform-image-CNN.keras')\n",
    "model2 = tf.keras.models.load_model('inversemodel-VG616-Waveform.keras')\n",
    "\n",
    "\n",
    "x = model1.predict(img_array)\n",
    "y = model2.predict(img2_array)\n",
    "\n",
    "print(x)\n",
    "print(y)\n"
   ]
  },
  {
   "cell_type": "code",
   "execution_count": 68,
   "metadata": {},
   "outputs": [
    {
     "name": "stdout",
     "output_type": "stream",
     "text": [
      "\u001b[1m1/1\u001b[0m \u001b[32m━━━━━━━━━━━━━━━━━━━━\u001b[0m\u001b[37m\u001b[0m \u001b[1m0s\u001b[0m 142ms/step\n",
      "\u001b[1m1/1\u001b[0m \u001b[32m━━━━━━━━━━━━━━━━━━━━\u001b[0m\u001b[37m\u001b[0m \u001b[1m1s\u001b[0m 502ms/step\n",
      "[[0.9999649]]\n",
      "[[0.5710939]]\n"
     ]
    }
   ],
   "source": [
    "import librosa\n",
    "import matplotlib.pyplot as plt\n",
    "\n",
    "# Load the audio file\n",
    "audio_path = r'C:\\Users\\alisa\\Downloads\\ElevenLabs_2024-02-21T05_28_34_Me_ivc_s50_sb75_se0_b_m2 (1).wav'\n",
    "y, sr = librosa.load(audio_path, sr=None)\n",
    "\n",
    "# Plot and save the waveform image\n",
    "plt.figure(figsize=(14, 5))\n",
    "plt.plot(y)\n",
    "plt.title('Waveform')\n",
    "waveform_image_path = 'workplz.png'\n",
    "plt.savefig(waveform_image_path)\n",
    "plt.close()\n",
    "\n",
    "\n",
    "import tensorflow as tf\n",
    "from tensorflow.keras.preprocessing import image\n",
    "\n",
    "# Load the image\n",
    "img = image.load_img(waveform_image_path, target_size=(128,128))\n",
    "img2 = image.load_img(waveform_image_path, target_size=(224,224))\n",
    "# Convert the image to a numpy array\n",
    "img_array = image.img_to_array(img)\n",
    "img2_array = image.img_to_array(img2)\n",
    "\n",
    "# Normalize the image\n",
    "img_array /= 255.0\n",
    "\n",
    "img2_array /= 255.0\n",
    "\n",
    "# Expand dimensions to match the input shape of the model\n",
    "img_array = np.expand_dims(img_array, axis=0)\n",
    "img2_array = np.expand_dims(img2_array, axis=0)\n",
    "\n",
    "model1 = tf.keras.models.load_model('waveform-image-CNN.keras')\n",
    "model2 = tf.keras.models.load_model('inversemodel-VG616-Waveform.keras')\n",
    "\n",
    "\n",
    "x = model1.predict(img_array)\n",
    "y = model2.predict(img2_array)\n",
    "\n",
    "print(x)\n",
    "print(y)\n"
   ]
  },
  {
   "cell_type": "code",
   "execution_count": 69,
   "metadata": {},
   "outputs": [
    {
     "name": "stderr",
     "output_type": "stream",
     "text": [
      "C:\\Users\\alisa\\AppData\\Local\\Packages\\PythonSoftwareFoundation.Python.3.11_qbz5n2kfra8p0\\LocalCache\\local-packages\\Python311\\site-packages\\keras\\src\\saving\\saving_lib.py:415: UserWarning: Skipping variable loading for optimizer 'rmsprop', because it has 12 variables whereas the saved optimizer has 22 variables. \n",
      "  saveable.load_own_variables(weights_store.get(inner_path))\n",
      "C:\\Users\\alisa\\AppData\\Local\\Packages\\PythonSoftwareFoundation.Python.3.11_qbz5n2kfra8p0\\LocalCache\\local-packages\\Python311\\site-packages\\keras\\src\\saving\\saving_lib.py:415: UserWarning: Skipping variable loading for optimizer 'rmsprop', because it has 10 variables whereas the saved optimizer has 18 variables. \n",
      "  saveable.load_own_variables(weights_store.get(inner_path))\n"
     ]
    },
    {
     "name": "stdout",
     "output_type": "stream",
     "text": [
      "\u001b[1m1/1\u001b[0m \u001b[32m━━━━━━━━━━━━━━━━━━━━\u001b[0m\u001b[37m\u001b[0m \u001b[1m1s\u001b[0m 1s/step\n",
      "\u001b[1m1/1\u001b[0m \u001b[32m━━━━━━━━━━━━━━━━━━━━\u001b[0m\u001b[37m\u001b[0m \u001b[1m1s\u001b[0m 511ms/step\n",
      "[[0.04888479]]\n",
      "[[0.424135]]\n"
     ]
    }
   ],
   "source": [
    "import librosa\n",
    "import matplotlib.pyplot as plt\n",
    "\n",
    "# Load the audio file\n",
    "audio_path = r'C:\\Users\\alisa\\Downloads\\FAKE\\target generated\\PARALLELWAVEGANLJ001-0003_gen.wav'\n",
    "y, sr = librosa.load(audio_path, sr=None)\n",
    "\n",
    "# Plot and save the waveform image\n",
    "plt.figure(figsize=(14, 5))\n",
    "plt.plot(y)\n",
    "plt.title('Waveform')\n",
    "waveform_image_path = 'workplz.png'\n",
    "plt.savefig(waveform_image_path)\n",
    "plt.close()\n",
    "\n",
    "\n",
    "import tensorflow as tf\n",
    "from tensorflow.keras.preprocessing import image\n",
    "\n",
    "# Load the image\n",
    "img = image.load_img(waveform_image_path, target_size=(128,128))\n",
    "img2 = image.load_img(waveform_image_path, target_size=(224,224))\n",
    "# Convert the image to a numpy array\n",
    "img_array = image.img_to_array(img)\n",
    "img2_array = image.img_to_array(img2)\n",
    "\n",
    "# Normalize the image\n",
    "img_array /= 255.0\n",
    "\n",
    "img2_array /= 255.0\n",
    "\n",
    "# Expand dimensions to match the input shape of the model\n",
    "img_array = np.expand_dims(img_array, axis=0)\n",
    "img2_array = np.expand_dims(img2_array, axis=0)\n",
    "\n",
    "model1 = tf.keras.models.load_model('waveform-image-CNN.keras')\n",
    "model2 = tf.keras.models.load_model('inversemodel-VG616-Waveform.keras')\n",
    "\n",
    "\n",
    "x = model1.predict(img_array)\n",
    "y = model2.predict(img2_array)\n",
    "\n",
    "print(x)\n",
    "print(y)\n"
   ]
  },
  {
   "cell_type": "code",
   "execution_count": null,
   "metadata": {},
   "outputs": [],
   "source": []
  }
 ],
 "metadata": {
  "kernelspec": {
   "display_name": "Python 3",
   "language": "python",
   "name": "python3"
  },
  "language_info": {
   "codemirror_mode": {
    "name": "ipython",
    "version": 3
   },
   "file_extension": ".py",
   "mimetype": "text/x-python",
   "name": "python",
   "nbconvert_exporter": "python",
   "pygments_lexer": "ipython3",
   "version": "3.11.9"
  }
 },
 "nbformat": 4,
 "nbformat_minor": 2
}
